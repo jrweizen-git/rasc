{
 "cells": [
  {
   "cell_type": "code",
   "execution_count": 30,
   "metadata": {},
   "outputs": [],
   "source": [
    "# Counts words in a file. Must put eclipse.txt in same folder first. \n",
    "#(yeap, from pink floyd)\n",
    "\n",
    "# import time\n",
    "import datetime\n",
    "\n",
    "def count_words(filename):\n",
    "    numwords = 0\n",
    "    numchars = 0\n",
    "    numlines = 0\n",
    "    \n",
    "    with open(filename, 'r') as file:\n",
    "        for line in file:\n",
    "            wordlist = line.split()\n",
    "            numlines += 1\n",
    "            numwords += len(wordlist)\n",
    "            numchars += len(line)\n",
    "    \n",
    "    print(\"Words:\", numwords)\n",
    "    print(\"Lines:\", numlines)\n",
    "    print(\"Chars:\", numchars)\n",
    "    \n"
   ]
  },
  {
   "cell_type": "code",
   "execution_count": 48,
   "metadata": {},
   "outputs": [
    {
     "name": "stdout",
     "output_type": "stream",
     "text": [
      "Words: 849292\n",
      "Lines: 100192\n",
      "Chars: 4451762\n",
      "\n",
      "inicio 2019-01-04 19:41:21.589484\n",
      "fim    2019-01-04 19:41:21.689707\n",
      "\n",
      "diff(HH-MM-SS.mmmmmm): 0:00:00.100223\n"
     ]
    }
   ],
   "source": [
    "if __name__ == '__main__':\n",
    "    \n",
    "    inicio = datetime.datetime.utcnow()\n",
    "    count_words('holybible.rtf')\n",
    "    fim = datetime.datetime.utcnow()\n",
    "    \n",
    "    print(\"\\ninicio\", inicio)\n",
    "    print(\"fim   \", fim)\n",
    "    print(\"\\ndiff(HH-MM-SS.mmmmmm):\", fim - inicio)"
   ]
  }
 ],
 "metadata": {
  "kernelspec": {
   "display_name": "Python 3",
   "language": "python",
   "name": "python3"
  },
  "language_info": {
   "codemirror_mode": {
    "name": "ipython",
    "version": 3
   },
   "file_extension": ".py",
   "mimetype": "text/x-python",
   "name": "python",
   "nbconvert_exporter": "python",
   "pygments_lexer": "ipython3",
   "version": "3.6.5"
  }
 },
 "nbformat": 4,
 "nbformat_minor": 2
}
